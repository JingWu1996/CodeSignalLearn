{
 "cells": [
  {
   "cell_type": "code",
   "execution_count": null,
   "metadata": {},
   "outputs": [],
   "source": [
    "import pandas as pd # type: ignore\n",
    "\n",
    "data_dict = {\"Name\": [\"John\", \"Anna\", \"Peter\"],\n",
    "             \"Age\": [28, 24, 33],\n",
    "             \"City\": [\"New York\", \"Los Angeles\", \"Berlin\"]}\n",
    "\n",
    "df = pd.DataFrame(data_dict)\n",
    "\n",
    "print(df)\n",
    "\n",
    "\"\"\"\n",
    "    Name  Age         City\n",
    "0   John   28     New York\n",
    "1   Anna   24  Los Angeles\n",
    "2  Peter   33       Berlin\n",
    "\"\"\""
   ]
  },
  {
   "cell_type": "code",
   "execution_count": null,
   "metadata": {},
   "outputs": [],
   "source": [
    "print(df.head(2))  # Print first two rows\n",
    "print(df.tail(2))  # Print last two rows\n",
    "print(df.shape)    # Print dimensions of the df (rows, columns): (3, 3)\n",
    "print(df.columns)  # Print column labels: Index(['Name', 'Age', 'City'], dtype='object')\n",
    "print(df.dtypes)   # Print data types of each column:\n",
    "# Name    object\n",
    "# Age      int64\n",
    "# City    object\n",
    "# dtype: object"
   ]
  },
  {
   "cell_type": "code",
   "execution_count": null,
   "metadata": {},
   "outputs": [],
   "source": [
    "df[\"IsYouthful\"] = df[\"Age\"].apply(lambda age: \"Yes\" if age < 30 else \"No\")\n",
    "print(df)\n",
    "\n",
    "\"\"\"\n",
    "    Name  Age         City IsYouthful\n",
    "0   John   28     New York        Yes\n",
    "1   Anna   24  Los Angeles        Yes\n",
    "2  Peter   33       Berlin         No\n",
    "\"\"\""
   ]
  },
  {
   "cell_type": "code",
   "execution_count": null,
   "metadata": {},
   "outputs": [],
   "source": [
    "df2 = pd.DataFrame({\"Name\": [\"Megan\"], \"Age\": [34], \"City\": [\"San Francisco\"], \"IsYouthful\": [\"No\"]})\n",
    "\n",
    "df_concatenated = pd.concat([df, df2], ignore_index=True)\n",
    "\n",
    "print(df_concatenated)\n",
    "\n",
    "\"\"\"\n",
    "    Name  Age           City IsYouthful\n",
    "0   John   28       New York        Yes\n",
    "1   Anna   24    Los Angeles        Yes\n",
    "2  Peter   33         Berlin         No\n",
    "3  Megan   34  San Francisco         No (reset index cause ignore_index=True)\n",
    "\"\"\""
   ]
  },
  {
   "cell_type": "code",
   "execution_count": null,
   "metadata": {},
   "outputs": [],
   "source": [
    "print(df['column_name']) # select a single column\n",
    "print(df[['col1', 'col2']]) # select multiple columns\n",
    "\n",
    "#df.iloc[row_selection, column_selection]:\n",
    "df.iloc[1,0] # Select the value in the second row and the first column (1-based)\n",
    "df.iloc[:2,:2] # Select the first two rows and columns"
   ]
  },
  {
   "cell_type": "markdown",
   "metadata": {},
   "source": [
    "# REAL world data from Seaborn lib"
   ]
  },
  {
   "cell_type": "code",
   "execution_count": null,
   "metadata": {},
   "outputs": [],
   "source": [
    "import pandas as pd\n",
    "import seaborn as sns\n",
    "\n",
    "# Load the titanic dataset into a Pandas DataFrame\n",
    "titanic = sns.load_dataset('titanic')\n",
    "\n",
    "# Look at the first 3 rows of the DataFrame\n",
    "print(titanic.head(3))\n",
    "\n",
    "\"\"\"\n",
    "   survived  pclass     sex   age  ...  deck  embark_town  alive  alone\n",
    "0         0       3    male  22.0  ...   NaN  Southampton     no  False\n",
    "1         1       1  female  38.0  ...     C    Cherbourg    yes  False\n",
    "2         1       3  female  26.0  ...   NaN  Southampton    yes   True\n",
    "\n",
    "[3 rows x 15 columns]\n",
    "\"\"\"\n",
    "\n",
    "# Using lambda for DataFrame manipulation\n",
    "# Create a new column, \"IsChild\", to mark the passengers who are under 18\n",
    "titanic[\"IsChild\"] = titanic[\"age\"].apply(lambda age: \"Yes\" if age < 18 else \"No\")\n",
    "print(\"\\nDataFrame after adding the 'IsChild' column:\")\n",
    "print(titanic.head(5))\n",
    "\n",
    "# Concatenating DataFrames\n",
    "# Create a new DataFrame\n",
    "new_data = pd.DataFrame({\"survived\": [1],\n",
    "                         \"pclass\": [3],\n",
    "                         \"sex\": [\"male\"],\n",
    "                         \"age\": [32],\n",
    "                         \"sibsp\": [0],\n",
    "                         \"parch\": [0],\n",
    "                         \"fare\": [7.75],\n",
    "                         \"embarked\": [\"Q\"],\n",
    "                         \"class\": [\"Third\"],\n",
    "                         \"who\": [\"man\"],\n",
    "                         \"adult_male\": [True],\n",
    "                         \"deck\": [None],\n",
    "                         \"embark_town\": [\"Queenstown\"],\n",
    "                         \"alive\": [\"yes\"],\n",
    "                         \"alone\": [True],\n",
    "                         \"IsChild\": [\"No\"]})\n",
    "# Drop columns with all-NA values\n",
    "# To Handle the Future warning of concat function (since it will not support NA)\n",
    "new_data = new_data.dropna(axis=1, how='all')\n",
    "# Concatenate the new data to the original DataFrame\n",
    "titanic_concat = pd.concat([titanic, new_data], ignore_index=True)\n",
    "print(\"\\nConcatenated DataFrame:\")\n",
    "print(titanic_concat.tail())"
   ]
  },
  {
   "cell_type": "markdown",
   "metadata": {},
   "source": [
    "less than 7，表示＜7\n",
    "\n",
    "not more than 7，表示≤7\n",
    "\n",
    "# descriptive statistical analysis"
   ]
  },
  {
   "cell_type": "code",
   "execution_count": null,
   "metadata": {},
   "outputs": [],
   "source": [
    "import numpy as np\n",
    "import pandas as pd\n",
    "import seaborn as sns\n",
    "\n",
    "# Load Titanic dataset\n",
    "titanic_df = sns.load_dataset('titanic')\n",
    "\n",
    "mean_age = titanic_df['age'].mean()\n",
    "median_age = titanic_df['age'].median()\n",
    "mode_age = titanic_df['age'].mode()[0] #因为返回的是一个Series所以需要index[0]\n",
    "\n",
    "print(f\"Mean age: {mean_age}\") # Mean age: 29.69911764705882\n",
    "print(f\"Median age: {median_age}\") # Median age: 28.0\n",
    "print(f\"Mode age: {mode_age}\") # Mode age: 24.0\n",
    "# Standard deviation\n",
    "std_dev_age = np.std(titanic_df['age'])\n",
    "\n",
    "print(f\"Standard deviation of age: {std_dev_age}\") # Standard deviation of age: 14.516321150817316"
   ]
  },
  {
   "cell_type": "code",
   "execution_count": null,
   "metadata": {},
   "outputs": [],
   "source": [
    "# 创建一个 Series\n",
    "data = pd.Series([1, 2, 2, 3, 4, 4, 4, 5])\n",
    "\n",
    "# 众数（mode），Series的众数返回Series\n",
    "# 指定了列的时候返回某个数，没指定时返回各个列的众数为一个dataframe\n",
    "# 多个值出现次数相同时，返回多个值\n",
    "mode_value = data.mode()\n",
    "print(mode_value)  # 输出: 0    4\n",
    "                   #       dtype: int64"
   ]
  },
  {
   "cell_type": "markdown",
   "metadata": {},
   "source": [
    "# 四分位，百分位"
   ]
  },
  {
   "cell_type": "code",
   "execution_count": null,
   "metadata": {},
   "outputs": [],
   "source": [
    "# Quartiles and percentiles\n",
    "# Using Numpy\n",
    "Q1_age_np = np.percentile(titanic_df['age'].dropna(), 25) # dropna is being used to drop NA values\n",
    "Q3_age_np = np.percentile(titanic_df['age'].dropna(), 75) #Numpy的Percentile需要DropNA一下\n",
    "\n",
    "print(f\"First quartile of age (Numpy): {Q1_age_np}\")\n",
    "print(f\"Third quartile of age (Numpy): {Q3_age_np}\")\n",
    "\n",
    "# Output:\n",
    "# First quartile of age (Numpy): 20.125 ->有25%的人的年龄低于20.125岁\n",
    "# Third quartile of age (Numpy): 38.0   ->有75%的人的年龄低于38岁\n",
    "\n",
    "# Using Pandas\n",
    "Q1_age_pd = titanic_df['age'].quantile(0.25)\n",
    "Q3_age_pd = titanic_df['age'].quantile(0.75) #pandas的Quantile不需要DropNA\n",
    "\n",
    "print(f\"First quartile of age (Pandas): {Q1_age_pd}\")\n",
    "print(f\"Third quartile of age (Pandas): {Q3_age_pd}\")\n",
    "\n",
    "# Output:\n",
    "# First quartile of age (Pandas): 20.125\n",
    "# Third quartile of age (Pandas): 38.0"
   ]
  },
  {
   "cell_type": "markdown",
   "metadata": {},
   "source": [
    "# Filtering and Sorting(Pandas)"
   ]
  },
  {
   "cell_type": "code",
   "execution_count": null,
   "metadata": {},
   "outputs": [],
   "source": [
    "import seaborn as sns\n",
    "import pandas as pd\n",
    "\n",
    "# Load dataset\n",
    "titanic_df = sns.load_dataset('titanic')\n",
    "\n",
    "# Filter passengers who survived\n",
    "survivors = titanic_df[titanic_df['survived'] == 1]\n",
    "print(survivors.head())\n",
    "\n",
    "\"\"\"\n",
    "   survived  pclass     sex   age  ...  deck  embark_town  alive  alone\n",
    "1         1       1  female  38.0  ...     C    Cherbourg    yes  False\n",
    "2         1       3  female  26.0  ...   NaN  Southampton    yes   True\n",
    "3         1       1  female  35.0  ...     C  Southampton    yes  False\n",
    "8         1       3  female  27.0  ...   NaN  Southampton    yes  False\n",
    "9         1       2  female  14.0  ...   NaN    Cherbourg    yes  False\n",
    "\n",
    "[5 rows x 15 columns]\n",
    "\"\"\""
   ]
  },
  {
   "cell_type": "code",
   "execution_count": null,
   "metadata": {},
   "outputs": [],
   "source": [
    "# Sort survivors by age\n",
    "sorted_df = survivors.sort_values('age') # ascending 升序\n",
    "print(sorted_df.head())\n",
    "\n",
    "\"\"\"\n",
    "     survived  pclass     sex   age  ...  deck  embark_town  alive  alone\n",
    "803         1       3    male  0.42  ...   NaN    Cherbourg    yes  False\n",
    "755         1       2    male  0.67  ...   NaN  Southampton    yes  False\n",
    "644         1       3  female  0.75  ...   NaN    Cherbourg    yes  False\n",
    "469         1       3  female  0.75  ...   NaN    Cherbourg    yes  False\n",
    "831         1       2    male  0.83  ...   NaN  Southampton    yes  False\n",
    "\n",
    "[5 rows x 15 columns]\n",
    "\"\"\""
   ]
  },
  {
   "cell_type": "code",
   "execution_count": null,
   "metadata": {},
   "outputs": [],
   "source": [
    "\n",
    "# Sort survivors by class and age\n",
    "sorted_df = survivors.sort_values(['pclass', 'age'], ascending=[False, True])\n",
    "print(sorted_df.head())\n",
    "\n",
    "\"\"\"\n",
    "     survived  pclass     sex   age  ...  deck  embark_town  alive  alone\n",
    "803         1       3    male  0.42  ...   NaN    Cherbourg    yes  False\n",
    "469         1       3  female  0.75  ...   NaN    Cherbourg    yes  False\n",
    "644         1       3  female  0.75  ...   NaN    Cherbourg    yes  False\n",
    "172         1       3  female  1.00  ...   NaN  Southampton    yes  False\n",
    "381         1       3  female  1.00  ...   NaN    Cherbourg    yes  False\n",
    "\n",
    "[5 rows x 15 columns]\n",
    "\"\"\""
   ]
  },
  {
   "cell_type": "code",
   "execution_count": null,
   "metadata": {},
   "outputs": [],
   "source": [
    "# Filter female passengers who survived\n",
    "female_survivors = titanic_df[\n",
    "    (titanic_df['survived'] == 1) & (titanic_df['sex'] == 'female')\n",
    "]\n",
    "print(female_survivors.head())\n",
    "\n",
    "\"\"\"\n",
    "   survived  pclass     sex   age  ...  deck  embark_town  alive  alone\n",
    "1         1       1  female  38.0  ...     C    Cherbourg    yes  False\n",
    "2         1       3  female  26.0  ...   NaN  Southampton    yes   True\n",
    "3         1       1  female  35.0  ...     C  Southampton    yes  False\n",
    "8         1       3  female  27.0  ...   NaN  Southampton    yes  False\n",
    "9         1       2  female  14.0  ...   NaN    Cherbourg    yes  False\n",
    "\n",
    "[5 rows x 15 columns]\n",
    "\"\"\""
   ]
  },
  {
   "cell_type": "markdown",
   "metadata": {},
   "source": [
    "# Data Cleaning and Preprocessing\n",
    "### Missing Data"
   ]
  },
  {
   "cell_type": "code",
   "execution_count": null,
   "metadata": {},
   "outputs": [],
   "source": [
    "import seaborn as sns\n",
    "\n",
    "# Load the dataset\n",
    "titanic_df = sns.load_dataset('titanic')\n",
    "\n",
    "# Detect missing values \n",
    "missing_values = titanic_df.isnull() # return a same size dataframe as original data\n",
    "print(missing_values.head(10))\n",
    "\"\"\"\n",
    "   survived  pclass    sex    age  ...   deck  embark_town  alive  alone\n",
    "0     False   False  False  False  ...   True        False  False  False\n",
    "1     False   False  False  False  ...  False        False  False  False\n",
    "2     False   False  False  False  ...   True        False  False  False\n",
    "3     False   False  False  False  ...  False        False  False  False\n",
    "4     False   False  False  False  ...   True        False  False  False\n",
    "5     False   False  False   True  ...   True        False  False  False\n",
    "6     False   False  False  False  ...  False        False  False  False\n",
    "7     False   False  False  False  ...   True        False  False  False\n",
    "8     False   False  False  False  ...   True        False  False  False\n",
    "9     False   False  False  False  ...   True        False  False  False\n",
    "\n",
    "[10 rows x 15 columns]\n",
    "\"\"\"\n",
    "missing_values_count = titanic_df.isnull().sum()\n",
    "print(missing_values_count)\n",
    "\"\"\"\n",
    "survived         0\n",
    "pclass           0\n",
    "sex              0\n",
    "age            177\n",
    "sibsp            0\n",
    "parch            0\n",
    "fare             0\n",
    "embarked         2\n",
    "class            0\n",
    "who              0\n",
    "adult_male       0\n",
    "deck           688\n",
    "embark_town      2\n",
    "alive            0\n",
    "alone            0\n",
    "dtype: int64\n",
    "\"\"\""
   ]
  },
  {
   "cell_type": "code",
   "execution_count": null,
   "metadata": {},
   "outputs": [],
   "source": [
    "# Drop的前提是缺失数据少，不影响我们的计算\n",
    "# Copy the original dataset\n",
    "titanic_df_copy = titanic_df.copy()\n",
    "\n",
    "# Drop rows with missing values\n",
    "titanic_df_copy.dropna(inplace=True) # titanic_df_copy is now modified\n",
    "titanic_df_copy = titanic_df.dropna(inplace=False) # Original df remains the same; you get new_df with modifications\n",
    "\n",
    "# Check the dataframe\n",
    "print(titanic_df_copy.isnull().sum())\n",
    "# There will be no missing values in every column"
   ]
  },
  {
   "cell_type": "code",
   "execution_count": null,
   "metadata": {},
   "outputs": [],
   "source": [
    "import matplotlib.pyplot as plt\n",
    "import seaborn as sns\n",
    "\n",
    "# Detected missing values visualized\n",
    "plt.figure(figsize=(10,6))\n",
    "sns.heatmap(titanic_df.isnull(), cmap='viridis')\n",
    "plt.show()"
   ]
  },
  {
   "cell_type": "code",
   "execution_count": null,
   "metadata": {},
   "outputs": [],
   "source": [
    "# Imputation估算适用于不想改变数据整体大小，因此用平均值，中位数，众数等等来取代缺损\n",
    "# Impute missing values using mean\n",
    "titanic_df['age'].fillna(titanic_df['age'].mean(), inplace=True)\n",
    "\n",
    "# Check the dataframe\n",
    "print(titanic_df.isnull().sum())\n",
    "\"\"\"\n",
    "survived         0\n",
    "pclass           0\n",
    "sex              0\n",
    "age              0\n",
    "sibsp            0\n",
    "parch            0\n",
    "fare             0\n",
    "embarked         2\n",
    "class            0\n",
    "who              0\n",
    "adult_male       0\n",
    "deck           688\n",
    "embark_town      2\n",
    "alive            0\n",
    "alone            0\n",
    "dtype: int64\n",
    "\"\"\"\n",
    "# Impute missing values using backward fill\n",
    "titanic_df['age'].fillna(method='bfill', inplace=True)\n",
    "\n",
    "# Check the dataframe\n",
    "print(titanic_df.isnull().sum())\n",
    "# The output is the same as in the previous example"
   ]
  },
  {
   "cell_type": "markdown",
   "metadata": {},
   "source": []
  }
 ],
 "metadata": {
  "language_info": {
   "name": "python"
  }
 },
 "nbformat": 4,
 "nbformat_minor": 2
}
