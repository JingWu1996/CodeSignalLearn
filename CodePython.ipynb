{
 "cells": [
  {
   "cell_type": "markdown",
   "metadata": {},
   "source": [
    "# Numpy Basic"
   ]
  },
  {
   "cell_type": "code",
   "execution_count": null,
   "metadata": {},
   "outputs": [],
   "source": [
    "import numpy as np\n",
    "\n",
    "# Create a Python list\n",
    "py_list = [1, 2, 3, 4, 5]\n",
    "\n",
    "# Convert list to a Numpy array\n",
    "np_array = np.array(py_list)\n",
    "\n",
    "print(np_array) # Output: [1 2 3 4 5]\n",
    "\n",
    "# Create a 2D Python list\n",
    "py_list_2d = [[1, 2, 3], [4, 5, 6], [7, 8, 9]]\n",
    "\n",
    "# Convert list to a Numpy array\n",
    "np_array_2d = np.array(py_list_2d)\n",
    "\n",
    "print(np_array_2d)\n",
    "# Output:\n",
    "# [[1 2 3]\n",
    "#  [4 5 6]\n",
    "#  [7 8 9]]\n",
    "\n",
    "np_array = np.array([[1, 2, 3], [4, 5, 6]])\n",
    "\n",
    "print(\"Dimensions: \", np_array.ndim) # Dimensions:  2\n",
    "print(\"Shape: \", np_array.shape)     # Shape:  (2, 3)\n",
    "print(\"Size: \", np_array.size)       # Size: 6\n",
    "print(\"Data Type: \", np_array.dtype) # Data Type:  int64\n",
    "\n",
    "# Indexing: access the element at the first row, third column\n",
    "print(\"Indexed Value: \", np_array[0, 2]) # Indexed Value:  3\n",
    "\n",
    "# Slicing: access the first row \n",
    "print(\"Sliced Value: \", np_array[0,:]) # Sliced Value:  [1 2 3]\n",
    "\n",
    "# Reshape the array to 3 rows and 2 columns (only applicable if the reshaped total size equals the original size)\n",
    "reshaped_array = np_array.reshape(3, 2)\n",
    "print(\"Reshaped Array:\\n\", reshaped_array)\n",
    "# Reshaped Array:\n",
    "# [[1 2]\n",
    "#  [3 4]\n",
    "#  [5 6]]\n",
    "\n",
    "np_array1 = np.array([1, 2, 3])\n",
    "np_array2 = np.array([4, 5, 6])\n",
    "\n",
    "# Addition\n",
    "print(np_array1 + np_array2) # Output: [5 7 9]\n",
    "\n",
    "# Subtraction\n",
    "print(np_array1 - np_array2) # Output: [-3 -3 -3]\n",
    "\n",
    "# Multiplication\n",
    "print(np_array1 * np_array2) # Output: [4 10 18]\n",
    "\n",
    "# Division\n",
    "print(np_array1 / np_array2) # Output: [0.25 0.4 0.5]"
   ]
  },
  {
   "cell_type": "markdown",
   "metadata": {},
   "source": [
    "# Pandas Basic"
   ]
  },
  {
   "cell_type": "code",
   "execution_count": null,
   "metadata": {},
   "outputs": [],
   "source": [
    "import pandas as pd \n",
    "\n",
    "data_dict = {\"Name\": [\"John\", \"Anna\", \"Peter\"],\n",
    "             \"Age\": [28, 24, 33],\n",
    "             \"City\": [\"New York\", \"Los Angeles\", \"Berlin\"]}\n",
    "\n",
    "df = pd.DataFrame(data_dict)\n",
    "\n",
    "print(df)\n",
    "\n",
    "\"\"\"\n",
    "    Name  Age         City\n",
    "0   John   28     New York\n",
    "1   Anna   24  Los Angeles\n",
    "2  Peter   33       Berlin\n",
    "\"\"\"\n",
    "print(df.head(2))  # Print first two rows\n",
    "print(df.tail(2))  # Print last two rows\n",
    "print(df.shape)    # Print dimensions of the df (rows, columns): (3, 3)\n",
    "print(df.columns)  # Print column labels: Index(['Name', 'Age', 'City'], dtype='object')\n",
    "print(df.dtypes)   # Print data types of each column:\n",
    "# Name    object\n",
    "# Age      int64\n",
    "# City    object\n",
    "# dtype: object"
   ]
  },
  {
   "cell_type": "markdown",
   "metadata": {},
   "source": [
    "### Lambda via apply function(IsChild)"
   ]
  },
  {
   "cell_type": "code",
   "execution_count": null,
   "metadata": {},
   "outputs": [],
   "source": [
    "df[\"IsYouthful\"] = df[\"Age\"].apply(lambda age: \"Yes\" if age < 30 else \"No\")\n",
    "print(df)\n",
    "\n",
    "\"\"\"\n",
    "    Name  Age         City IsYouthful\n",
    "0   John   28     New York        Yes\n",
    "1   Anna   24  Los Angeles        Yes\n",
    "2  Peter   33       Berlin         No\n",
    "\"\"\""
   ]
  },
  {
   "cell_type": "code",
   "execution_count": null,
   "metadata": {},
   "outputs": [],
   "source": [
    "df2 = pd.DataFrame({\"Name\": [\"Megan\"], \"Age\": [34], \"City\": [\"San Francisco\"], \"IsYouthful\": [\"No\"]})\n",
    "\n",
    "df_concatenated = pd.concat([df, df2], ignore_index=True)\n",
    "\n",
    "print(df_concatenated)\n",
    "\n",
    "\"\"\"\n",
    "    Name  Age           City IsYouthful\n",
    "0   John   28       New York        Yes\n",
    "1   Anna   24    Los Angeles        Yes\n",
    "2  Peter   33         Berlin         No\n",
    "3  Megan   34  San Francisco         No (reset index cause ignore_index=True)\n",
    "\"\"\""
   ]
  },
  {
   "cell_type": "code",
   "execution_count": null,
   "metadata": {},
   "outputs": [],
   "source": [
    "print(df['column_name']) # select a single column\n",
    "print(df[['col1', 'col2']]) # select multiple columns\n",
    "\n",
    "#df.iloc[row_selection, column_selection]:\n",
    "df.iloc[1,0] # Select the value in the second row and the first column (1-based)\n",
    "df.iloc[:2,:2] # Select the first two rows and columns"
   ]
  },
  {
   "cell_type": "markdown",
   "metadata": {},
   "source": [
    "### basic Pandas|Titanic data from Seaborn lib"
   ]
  },
  {
   "cell_type": "code",
   "execution_count": null,
   "metadata": {},
   "outputs": [],
   "source": [
    "import pandas as pd\n",
    "import seaborn as sns\n",
    "\n",
    "# Load the titanic dataset into a Pandas DataFrame\n",
    "titanic = sns.load_dataset('titanic')\n",
    "\n",
    "# Look at the first 3 rows of the DataFrame\n",
    "print(titanic.head(3))\n",
    "\n",
    "\"\"\"\n",
    "   survived  pclass     sex   age  ...  deck  embark_town  alive  alone\n",
    "0         0       3    male  22.0  ...   NaN  Southampton     no  False\n",
    "1         1       1  female  38.0  ...     C    Cherbourg    yes  False\n",
    "2         1       3  female  26.0  ...   NaN  Southampton    yes   True\n",
    "\n",
    "[3 rows x 15 columns]\n",
    "\"\"\"\n",
    "\n",
    "# Using lambda for DataFrame manipulation\n",
    "# Create a new column, \"IsChild\", to mark the passengers who are under 18\n",
    "titanic[\"IsChild\"] = titanic[\"age\"].apply(lambda age: \"Yes\" if age < 18 else \"No\")\n",
    "print(\"\\nDataFrame after adding the 'IsChild' column:\")\n",
    "print(titanic.head(5))\n",
    "\n",
    "# less than 7，under 7, 表示＜7\n",
    "# not more than 7，表示≤7\n",
    "\n",
    "# Concatenating DataFrames\n",
    "# Create a new DataFrame\n",
    "new_data = pd.DataFrame({\"survived\": [1],\n",
    "                         \"pclass\": [3],\n",
    "                         \"sex\": [\"male\"],\n",
    "                         \"age\": [32],\n",
    "                         \"sibsp\": [0],\n",
    "                         \"parch\": [0],\n",
    "                         \"fare\": [7.75],\n",
    "                         \"embarked\": [\"Q\"],\n",
    "                         \"class\": [\"Third\"],\n",
    "                         \"who\": [\"man\"],\n",
    "                         \"adult_male\": [True],\n",
    "                         \"deck\": [None],\n",
    "                         \"embark_town\": [\"Queenstown\"],\n",
    "                         \"alive\": [\"yes\"],\n",
    "                         \"alone\": [True],\n",
    "                         \"IsChild\": [\"No\"]})\n",
    "# Drop columns with all-NA values\n",
    "# To Handle the Future warning of concat function (since it will not support NA)\n",
    "new_data = new_data.dropna(axis=1, how='all')\n",
    "# Concatenate the new data to the original DataFrame\n",
    "titanic_concat = pd.concat([titanic, new_data], ignore_index=True)\n",
    "print(\"\\nConcatenated DataFrame:\")\n",
    "print(titanic_concat.tail())"
   ]
  },
  {
   "cell_type": "markdown",
   "metadata": {},
   "source": [
    "\n",
    "# descriptive statistical analysis"
   ]
  },
  {
   "cell_type": "code",
   "execution_count": null,
   "metadata": {},
   "outputs": [],
   "source": [
    "import numpy as np\n",
    "import pandas as pd\n",
    "import seaborn as sns\n",
    "\n",
    "# Load Titanic dataset\n",
    "titanic_df = sns.load_dataset('titanic')\n",
    "\n",
    "mean_age = titanic_df['age'].mean()\n",
    "median_age = titanic_df['age'].median()\n",
    "mode_age = titanic_df['age'].mode()[0] #因为返回的是一个Series所以需要index[0]\n",
    "\n",
    "print(f\"Mean age: {mean_age}\") # Mean age: 29.69911764705882\n",
    "print(f\"Median age: {median_age}\") # Median age: 28.0\n",
    "print(f\"Mode age: {mode_age}\") # Mode age: 24.0\n",
    "# Standard deviation\n",
    "std_dev_age = np.std(titanic_df['age'])\n",
    "\n",
    "print(f\"Standard deviation of age: {std_dev_age}\") # Standard deviation of age: 14.516321150817316"
   ]
  },
  {
   "cell_type": "code",
   "execution_count": null,
   "metadata": {},
   "outputs": [],
   "source": [
    "# 创建一个 Series\n",
    "data = pd.Series([1, 2, 2, 3, 4, 4, 4, 5])\n",
    "\n",
    "# 众数（mode），Series的众数返回Series\n",
    "# 指定了列的时候返回某个数，没指定时返回各个列的众数为一个dataframe\n",
    "# 多个值出现次数相同时，返回多个值\n",
    "mode_value = data.mode()\n",
    "print(mode_value)  # 输出: 0    4\n",
    "                   #       dtype: int64"
   ]
  },
  {
   "cell_type": "markdown",
   "metadata": {},
   "source": [
    "### 四分位，百分位"
   ]
  },
  {
   "cell_type": "code",
   "execution_count": null,
   "metadata": {},
   "outputs": [],
   "source": [
    "# Quartiles and percentiles\n",
    "# Using Numpy\n",
    "Q1_age_np = np.percentile(titanic_df['age'].dropna(), 25) # dropna is being used to drop NA values\n",
    "Q3_age_np = np.percentile(titanic_df['age'].dropna(), 75) # Numpy的Percentile需要DropNA一下\n",
    "\n",
    "print(f\"First quartile of age (Numpy): {Q1_age_np}\")\n",
    "print(f\"Third quartile of age (Numpy): {Q3_age_np}\")\n",
    "\n",
    "# Output:\n",
    "# First quartile of age (Numpy): 20.125 ->有25%的人的年龄低于20.125岁\n",
    "# Third quartile of age (Numpy): 38.0   ->有75%的人的年龄低于38岁\n",
    "\n",
    "# Using Pandas\n",
    "Q1_age_pd = titanic_df['age'].quantile(0.25)\n",
    "Q3_age_pd = titanic_df['age'].quantile(0.75) # pandas的Quantile不需要DropNA\n",
    "\n",
    "print(f\"First quartile of age (Pandas): {Q1_age_pd}\")\n",
    "print(f\"Third quartile of age (Pandas): {Q3_age_pd}\")\n",
    "\n",
    "# Output:\n",
    "# First quartile of age (Pandas): 20.125\n",
    "# Third quartile of age (Pandas): 38.0"
   ]
  },
  {
   "cell_type": "markdown",
   "metadata": {},
   "source": [
    "# Filtering and Sorting(Pandas)"
   ]
  },
  {
   "cell_type": "code",
   "execution_count": null,
   "metadata": {},
   "outputs": [],
   "source": [
    "import seaborn as sns\n",
    "import pandas as pd\n",
    "\n",
    "# Load dataset\n",
    "titanic_df = sns.load_dataset('titanic')\n",
    "\n",
    "# Filter passengers who survived\n",
    "survivors = titanic_df[titanic_df['survived'] == 1]\n",
    "print(survivors.head())\n",
    "\n",
    "\"\"\"\n",
    "   survived  pclass     sex   age  ...  deck  embark_town  alive  alone\n",
    "1         1       1  female  38.0  ...     C    Cherbourg    yes  False\n",
    "2         1       3  female  26.0  ...   NaN  Southampton    yes   True\n",
    "3         1       1  female  35.0  ...     C  Southampton    yes  False\n",
    "8         1       3  female  27.0  ...   NaN  Southampton    yes  False\n",
    "9         1       2  female  14.0  ...   NaN    Cherbourg    yes  False\n",
    "\n",
    "[5 rows x 15 columns]\n",
    "\"\"\""
   ]
  },
  {
   "cell_type": "code",
   "execution_count": null,
   "metadata": {},
   "outputs": [],
   "source": [
    "# Sort survivors by age\n",
    "sorted_df = survivors.sort_values('age') # ascending 升序\n",
    "print(sorted_df.head())\n",
    "\n",
    "\"\"\"\n",
    "     survived  pclass     sex   age  ...  deck  embark_town  alive  alone\n",
    "803         1       3    male  0.42  ...   NaN    Cherbourg    yes  False\n",
    "755         1       2    male  0.67  ...   NaN  Southampton    yes  False\n",
    "644         1       3  female  0.75  ...   NaN    Cherbourg    yes  False\n",
    "469         1       3  female  0.75  ...   NaN    Cherbourg    yes  False\n",
    "831         1       2    male  0.83  ...   NaN  Southampton    yes  False\n",
    "\n",
    "[5 rows x 15 columns]\n",
    "\"\"\""
   ]
  },
  {
   "cell_type": "code",
   "execution_count": null,
   "metadata": {},
   "outputs": [],
   "source": [
    "\n",
    "# Sort survivors by class and age\n",
    "sorted_df = survivors.sort_values(['pclass', 'age'], ascending=[False, True])\n",
    "print(sorted_df.head())\n",
    "\n",
    "\"\"\"\n",
    "     survived  pclass     sex   age  ...  deck  embark_town  alive  alone\n",
    "803         1       3    male  0.42  ...   NaN    Cherbourg    yes  False\n",
    "469         1       3  female  0.75  ...   NaN    Cherbourg    yes  False\n",
    "644         1       3  female  0.75  ...   NaN    Cherbourg    yes  False\n",
    "172         1       3  female  1.00  ...   NaN  Southampton    yes  False\n",
    "381         1       3  female  1.00  ...   NaN    Cherbourg    yes  False\n",
    "\n",
    "[5 rows x 15 columns]\n",
    "\"\"\""
   ]
  },
  {
   "cell_type": "code",
   "execution_count": null,
   "metadata": {},
   "outputs": [],
   "source": [
    "# Filter female passengers who survived\n",
    "female_survivors = titanic_df[\n",
    "    (titanic_df['survived'] == 1) & (titanic_df['sex'] == 'female')\n",
    "]\n",
    "print(female_survivors.head())\n",
    "\n",
    "\"\"\"\n",
    "   survived  pclass     sex   age  ...  deck  embark_town  alive  alone\n",
    "1         1       1  female  38.0  ...     C    Cherbourg    yes  False\n",
    "2         1       3  female  26.0  ...   NaN  Southampton    yes   True\n",
    "3         1       1  female  35.0  ...     C  Southampton    yes  False\n",
    "8         1       3  female  27.0  ...   NaN  Southampton    yes  False\n",
    "9         1       2  female  14.0  ...   NaN    Cherbourg    yes  False\n",
    "\n",
    "[5 rows x 15 columns]\n",
    "\"\"\""
   ]
  },
  {
   "cell_type": "markdown",
   "metadata": {},
   "source": [
    "# Data Cleaning and Preprocessing"
   ]
  },
  {
   "cell_type": "markdown",
   "metadata": {},
   "source": [
    "## Missing Data Handling"
   ]
  },
  {
   "cell_type": "markdown",
   "metadata": {},
   "source": [
    "### Detection"
   ]
  },
  {
   "cell_type": "code",
   "execution_count": null,
   "metadata": {},
   "outputs": [],
   "source": [
    "import seaborn as sns\n",
    "\n",
    "# Load the dataset\n",
    "titanic_df = sns.load_dataset('titanic')\n",
    "\n",
    "# Detect missing values \n",
    "missing_values = titanic_df.isnull() # return boolean dataframe, same size as original data\n",
    "print(missing_values.head(10))\n",
    "\"\"\"\n",
    "   survived  pclass    sex    age  ...   deck  embark_town  alive  alone\n",
    "0     False   False  False  False  ...   True        False  False  False\n",
    "1     False   False  False  False  ...  False        False  False  False\n",
    "2     False   False  False  False  ...   True        False  False  False\n",
    "3     False   False  False  False  ...  False        False  False  False\n",
    "4     False   False  False  False  ...   True        False  False  False\n",
    "5     False   False  False   True  ...   True        False  False  False\n",
    "6     False   False  False  False  ...  False        False  False  False\n",
    "7     False   False  False  False  ...   True        False  False  False\n",
    "8     False   False  False  False  ...   True        False  False  False\n",
    "9     False   False  False  False  ...   True        False  False  False\n",
    "\n",
    "[10 rows x 15 columns]\n",
    "\"\"\"\n",
    "missing_values_count = titanic_df.isnull().sum()\n",
    "print(missing_values_count)\n",
    "\"\"\"\n",
    "survived         0\n",
    "pclass           0\n",
    "sex              0\n",
    "age            177\n",
    "sibsp            0\n",
    "parch            0\n",
    "fare             0\n",
    "embarked         2\n",
    "class            0\n",
    "who              0\n",
    "adult_male       0\n",
    "deck           688\n",
    "embark_town      2\n",
    "alive            0\n",
    "alone            0\n",
    "dtype: int64\n",
    "\"\"\"\n",
    "\n",
    "import matplotlib.pyplot as plt\n",
    "\n",
    "# Detected missing values visualized\n",
    "plt.figure(figsize=(10,6))\n",
    "sns.heatmap(titanic_df.isnull(), cmap='viridis')\n",
    "plt.show()"
   ]
  },
  {
   "cell_type": "markdown",
   "metadata": {},
   "source": [
    "### Drop"
   ]
  },
  {
   "cell_type": "code",
   "execution_count": null,
   "metadata": {},
   "outputs": [],
   "source": [
    "# Drop的前提是缺失数据少，不影响我们的计算\n",
    "# Copy the original dataset\n",
    "titanic_df_copy = titanic_df.copy()\n",
    "\n",
    "# Drop rows with missing values\n",
    "titanic_df_copy.dropna(inplace=True) # titanic_df_copy is now modified\n",
    "titanic_df_copy = titanic_df.dropna(inplace=False) # Original df remains the same; you get new_df with modifications\n",
    "\n",
    "# Check the dataframe\n",
    "print(titanic_df_copy.isnull().sum())\n",
    "# There will be no missing values in every column\n",
    "\n",
    "print(titanic_df.shape)\n",
    "# TODO: Clean the dataset to remove rows with missing 'age' data\n",
    "titanic_df['age_missing'] = titanic_df['age'].isnull()\n",
    "print(titanic_df['age_missing'].unique()) \n",
    "\n",
    "missing_values_count = titanic_df['age'].isnull().sum()\n",
    "print(missing_values_count)\n",
    "\n",
    "titanic_df_removed = titanic_df[titanic_df['age_missing'] == False]\n",
    "print(titanic_df_removed.shape)"
   ]
  },
  {
   "cell_type": "markdown",
   "metadata": {},
   "source": [
    "### Imputation"
   ]
  },
  {
   "cell_type": "code",
   "execution_count": null,
   "metadata": {},
   "outputs": [],
   "source": [
    "# Imputation估算适用于不想改变数据整体大小，因此用平均值，中位数，众数等等来取代缺损\n",
    "# Impute missing values using mean\n",
    "titanic_df['age'].fillna(titanic_df['age'].mean(), inplace=True)\n",
    "\n",
    "# Check the dataframe\n",
    "print(titanic_df.isnull().sum())\n",
    "\"\"\"\n",
    "survived         0\n",
    "pclass           0\n",
    "sex              0\n",
    "age              0\n",
    "sibsp            0\n",
    "parch            0\n",
    "fare             0\n",
    "embarked         2\n",
    "class            0\n",
    "who              0\n",
    "adult_male       0\n",
    "deck           688\n",
    "embark_town      2\n",
    "alive            0\n",
    "alone            0\n",
    "dtype: int64\n",
    "\"\"\"\n",
    "# Impute missing values using backward fill\n",
    "titanic_df['age'].fillna(method='bfill', inplace=True)\n",
    "\n",
    "# Check the dataframe\n",
    "print(titanic_df.isnull().sum())\n",
    "# The output is the same as in the previous example"
   ]
  },
  {
   "cell_type": "markdown",
   "metadata": {},
   "source": [
    "## Categorical Data Encoding 类型特征编码"
   ]
  },
  {
   "cell_type": "code",
   "execution_count": null,
   "metadata": {},
   "outputs": [],
   "source": [
    "import pandas as pd\n",
    "import seaborn as sns\n",
    "\n",
    "# Load Titanic dataset\n",
    "titanic_df = sns.load_dataset('titanic')\n",
    "# Display unique categories in 'sex' and 'embark_town'\n",
    "print(titanic_df['sex'].unique()) # Output: ['male' 'female']\n",
    "print(titanic_df['embark_town'].unique()) # Output: ['Southampton' 'Cherbourg' 'Queenstown' nan]"
   ]
  },
  {
   "cell_type": "markdown",
   "metadata": {},
   "source": [
    "### factorize(Label)"
   ]
  },
  {
   "cell_type": "code",
   "execution_count": null,
   "metadata": {},
   "outputs": [],
   "source": [
    "# Label Encoding for 'sex'\n",
    "titanic_df['sex_encoded'] = pd.factorize(titanic_df['sex'])[0]\n",
    "# factorize返回2个item，index0是numerical encoded label，index1是unique value array\n",
    "# 下面显示了index0\n",
    "print(titanic_df[['sex', 'sex_encoded']].head())\n",
    "\"\"\"\n",
    "      sex  sex_encoded\n",
    "0    male            0\n",
    "1  female            1\n",
    "2  female            1\n",
    "3  female            1\n",
    "4    male            0\n",
    "\"\"\"\n",
    "# 因为male最先出现，所以被factorize函数label为0，female被label为1\n",
    "\n",
    "# 如果想要指定label可以直接用replace函数\n",
    "# Replace 'yes' with 1 and 'no' with 0\n",
    "titanic_df['alive_encoded'] = titanic_df['alive'].replace({'yes': 1, 'no': 0})\n"
   ]
  },
  {
   "cell_type": "markdown",
   "metadata": {},
   "source": [
    "### get_dummies(One-Hot)"
   ]
  },
  {
   "cell_type": "code",
   "execution_count": null,
   "metadata": {},
   "outputs": [],
   "source": [
    "# One-Hot Encoding for 'embark_town'\n",
    "encoded_df = pd.get_dummies(titanic_df['embark_town'], prefix='town')\n",
    "# get_dummies为变量embark_town的每个类别，创建了一个binary column(TF=10)，适用于没有排序性的类别\n",
    "\n",
    "titanic_df = pd.concat([titanic_df, encoded_df], axis=1)\n",
    "print(titanic_df.head())\n",
    "\"\"\"\n",
    "   survived  pclass     sex  ...  town_Cherbourg  town_Queenstown  town_Southampton\n",
    "0         0       3    male  ...           False            False              True\n",
    "1         1       1  female  ...            True            False             False\n",
    "2         1       3  female  ...           False            False              True\n",
    "3         1       1  female  ...           False            False              True\n",
    "4         0       3    male  ...           False            False              True\n",
    "\"\"\""
   ]
  },
  {
   "cell_type": "markdown",
   "metadata": {},
   "source": [
    "## Scaling(numerical -> diff ranges)"
   ]
  },
  {
   "cell_type": "markdown",
   "metadata": {},
   "source": [
    "### Standard Scaler(Normal distribution)"
   ]
  },
  {
   "cell_type": "code",
   "execution_count": null,
   "metadata": {},
   "outputs": [],
   "source": [
    "import numpy as np\n",
    "import seaborn as sns\n",
    "from sklearn.preprocessing import StandardScaler\n",
    "\n",
    "# Load the dataset and drop rows with missing values\n",
    "titanic_df = sns.load_dataset('titanic').dropna()\n",
    "\n",
    "# Initialize the StandardScaler\n",
    "std_scaler = StandardScaler()\n",
    "\n",
    "# Fit and transform the 'age' column\n",
    "titanic_df['age_std'] = std_scaler.fit_transform(np.array(titanic_df['age']).reshape(-1, 1))\n",
    "# reshape使得age列从1D变成了2D array\n",
    "# 下面的代码实现了同样的功能，但是直接将age列变成了一个dataframe\n",
    "titanic_df['age_std'] = std_scaler.fit_transform(titanic_df[['age']])\n",
    "\n",
    "# Check the transformed 'age' column\n",
    "print(titanic_df['age','age_std'].head())\n",
    "\"\"\"\n",
    "1     0.152082\n",
    "3    -0.039875\n",
    "6     1.175852\n",
    "10   -2.023430\n",
    "11    1.431795\n",
    "Name: age, dtype: float64\n",
    "\"\"\""
   ]
  },
  {
   "cell_type": "code",
   "execution_count": null,
   "metadata": {},
   "outputs": [],
   "source": [
    "# Check if data is normally distributed?\n",
    "import matplotlib.pyplot as plt\n",
    "import seaborn as sns\n",
    "import scipy.stats as stats\n",
    "from scipy.stats import shapiro, kstest, anderson\n",
    "\n",
    "# Shapiro-Wilk Test(small sample)\n",
    "stat, p = shapiro(titanic_df['age'])\n",
    "print(f'Shapiro-Wilk test p-value: {p}')\n",
    "\n",
    "# Kolmogorov-Smirnov Test(larger sample)\n",
    "stat, p = kstest(titanic_df['age'], 'norm', args=(titanic_df['age'].mean(), titanic_df['age'].std()))\n",
    "print(f'Kolmogorov-Smirnov test p-value: {p}')\n",
    "\n",
    "# Anderson-Darling Test(powerful)\n",
    "result = anderson(titanic_df['age'])\n",
    "print(f'Anderson-Darling test statistic: {result.statistic}')\n",
    "\n",
    "# Histogram\n",
    "sns.histplot(data=titanic_df['age'], kde=True)\n",
    "plt.show()\n",
    "\n",
    "# QQ Plot\n",
    "stats.probplot(titanic_df['age'], dist=\"norm\", plot=plt)\n",
    "plt.show()\n"
   ]
  },
  {
   "cell_type": "markdown",
   "metadata": {},
   "source": [
    "### Min-Max Scaler(No specific Shape/Distribution)归一化"
   ]
  },
  {
   "cell_type": "code",
   "execution_count": null,
   "metadata": {},
   "outputs": [],
   "source": [
    "from sklearn.preprocessing import MinMaxScaler\n",
    "\n",
    "# Initialize the MinMaxScaler\n",
    "min_max_scaler = MinMaxScaler()\n",
    "\n",
    "# Fit and transform the 'fare' column\n",
    "titanic_df['fare'] = min_max_scaler.fit_transform(np.array(titanic_df['fare']).reshape(-1, 1))\n",
    "\n",
    "# Check the transformed 'fare' column\n",
    "print(titanic_df['fare'].head())\n",
    "\"\"\"\n",
    "1     0.139136\n",
    "3     0.103644\n",
    "6     0.101229\n",
    "10    0.032596\n",
    "11    0.051822\n",
    "Name: fare, dtype: float64\n",
    "\"\"\""
   ]
  },
  {
   "cell_type": "markdown",
   "metadata": {},
   "source": [
    "### Robust Scaler(四分位IQR 抵御异常值影响)"
   ]
  },
  {
   "cell_type": "code",
   "execution_count": null,
   "metadata": {},
   "outputs": [],
   "source": [
    "from sklearn.preprocessing import RobustScaler\n",
    "\n",
    "# Initialize the RobustScaler\n",
    "robust_scaler = RobustScaler()\n",
    "\n",
    "# Fit and transform the 'fare' column\n",
    "titanic_df['fare'] = robust_scaler.fit_transform(np.array(titanic_df['fare']).reshape(-1, 1))\n",
    "\n",
    "# Check the transformed 'fare' column\n",
    "print(titanic_df['fare'].head())\n",
    "\"\"\"\n",
    "1     0.236871\n",
    "3    -0.064677\n",
    "6    -0.085199\n",
    "10   -0.668325\n",
    "11   -0.504975\n",
    "Name: fare, dtype: float64\n",
    "\"\"\"\n",
    "# 异常值变成了small positive and nagative values"
   ]
  },
  {
   "cell_type": "markdown",
   "metadata": {},
   "source": [
    "## Outlier Detection"
   ]
  },
  {
   "cell_type": "markdown",
   "metadata": {},
   "source": [
    "### Z-score"
   ]
  },
  {
   "cell_type": "code",
   "execution_count": null,
   "metadata": {},
   "outputs": [],
   "source": [
    "import numpy as np\n",
    "import pandas as pd\n",
    "import seaborn as sns\n",
    "\n",
    "# Load the dataset\n",
    "titanic_df = sns.load_dataset('titanic')\n",
    "\n",
    "# Calculate Z-scores\n",
    "titanic_df['age_zscore'] = np.abs((titanic_df.age - titanic_df.age.mean()) / titanic_df.age.std())\n",
    "\n",
    "# Get rows of outliers according to the Z-score method (using a threshold of 3)\n",
    "outliers_zscore = titanic_df[(titanic_df['age_zscore'] > 3)]\n",
    "print(\"Outliers detected by the Z-score method:\")\n",
    "print(outliers_zscore)\n",
    "\"\"\"\n",
    "     survived  pclass   sex   age  ...  embark_town  alive  alone age_zscore\n",
    "630         1       1  male  80.0  ...  Southampton    yes   True   3.462699\n",
    "851         0       3  male  74.0  ...  Southampton     no   True   3.049660\n",
    "\n",
    "[2 rows x 16 columns]\n",
    "\"\"\""
   ]
  },
  {
   "cell_type": "markdown",
   "metadata": {},
   "source": [
    "### IQR(25%~75%)"
   ]
  },
  {
   "cell_type": "code",
   "execution_count": null,
   "metadata": {},
   "outputs": [],
   "source": [
    "# Calculate IQR\n",
    "Q1 = titanic_df['age'].quantile(0.25)\n",
    "Q3 = titanic_df['age'].quantile(0.75)\n",
    "IQR = Q3 - Q1\n",
    "\n",
    "# Define Bounds\n",
    "lower_bound = Q1 - 1.5 * IQR\n",
    "upper_bound = Q3 + 1.5 * IQR\n",
    "\n",
    "# Get rows of outliers according to IQR method\n",
    "outliers_iqr = titanic_df[(titanic_df['age'] < lower_bound) | (titanic_df['age'] > upper_bound)]\n",
    "print(outliers_iqr)\n",
    "\"\"\"\n",
    "     survived  pclass   sex   age  ...  embark_town  alive  alone age_zscore\n",
    "33          0       2  male  66.0  ...  Southampton     no   True   2.498943\n",
    "54          0       1  male  65.0  ...    Cherbourg     no  False   2.430103\n",
    "96          0       1  male  71.0  ...    Cherbourg     no   True   2.843141\n",
    "116         0       3  male  70.5  ...   Queenstown     no   True   2.808721\n",
    "280         0       3  male  65.0  ...   Queenstown     no   True   2.430103\n",
    "456         0       1  male  65.0  ...  Southampton     no   True   2.430103\n",
    "493         0       1  male  71.0  ...    Cherbourg     no   True   2.843141\n",
    "630         1       1  male  80.0  ...  Southampton    yes   True   3.462699\n",
    "672         0       2  male  70.0  ...  Southampton     no   True   2.774301\n",
    "745         0       1  male  70.0  ...  Southampton     no  False   2.774301\n",
    "851         0       3  male  74.0  ...  Southampton     no   True   3.049660\n",
    "\n",
    "[11 rows x 16 columns]\n",
    "\"\"\""
   ]
  },
  {
   "cell_type": "markdown",
   "metadata": {},
   "source": [
    "### Drop Or Replace?"
   ]
  },
  {
   "cell_type": "code",
   "execution_count": null,
   "metadata": {},
   "outputs": [],
   "source": [
    "# Using the Z-score method\n",
    "titanic_df = titanic_df[titanic_df['age_zscore'] <= 3]\n",
    "\n",
    "# Using the IQR method\n",
    "titanic_df = titanic_df[(titanic_df['age'] >= lower_bound) & (titanic_df['age'] <= upper_bound)]\n",
    "\n",
    "# using mean\n",
    "titanic_df.loc[titanic_df['age_zscore'] > 3, 'age'] = titanic_df['age'].mean()\n",
    "\n",
    "# using median\n",
    "# Handle outliers in the 'age' column detected by the Z-score method by replacing them with median\n",
    "titanic_clean = titanic_df\n",
    "titanic_clean.loc[titanic_clean['age_zscore'] > 3, 'age'] = titanic_df['age'].median()\n",
    "\n",
    "# Print cleaned data\n",
    "print(\"\\nData after handling outliers detected by Z-score method:\")\n",
    "print(titanic_clean)\n",
    "\n",
    "titanic_df.loc[(titanic_df['age'] < lower_bound) | (titanic_df['age'] > upper_bound), 'age'] = titanic_df['age'].median()"
   ]
  }
 ],
 "metadata": {
  "language_info": {
   "name": "python"
  }
 },
 "nbformat": 4,
 "nbformat_minor": 2
}
